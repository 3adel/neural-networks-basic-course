{
 "cells": [
  {
   "cell_type": "code",
   "execution_count": 100,
   "metadata": {},
   "outputs": [],
   "source": [
    "#show plot inline\n",
    "%matplotlib inline\n",
    "from matplotlib import pyplot as plt\n",
    "import numpy as np\n"
   ]
  },
  {
   "cell_type": "code",
   "execution_count": 101,
   "metadata": {},
   "outputs": [],
   "source": [
    "#let's collect some sample data data\n",
    "xdat = [1, 2, 3, 4, 5, 6, 7, 8, 9, 10]\n",
    "ydat = [3, 5, 6, 8, 11, 10, 7, 12, 11, 11]\n"
   ]
  },
  {
   "cell_type": "code",
   "execution_count": 102,
   "metadata": {},
   "outputs": [],
   "source": [
    "#linear function mx + c\n",
    "def linear_function(m, x, c):\n",
    "    return m * x + c"
   ]
  },
  {
   "cell_type": "code",
   "execution_count": 103,
   "metadata": {},
   "outputs": [],
   "source": [
    "# for a linear fit mx + c, we need to find m and c such that the squared error is minimized, i.e., the gradient \n",
    "# of squared error is minimum\n",
    "\n",
    "def linfit(xdat,ydat):\n",
    "\n",
    "  xbar = np.sum(xdat)/len(xdat)\n",
    "  ybar = np.sum(ydat)/len(ydat)\n",
    "  \n",
    "  numeratorsum = 0\n",
    "  denomenatorsum = 0\n",
    " \n",
    "  count = 0\n",
    "  \n",
    "  for i in xdat:\n",
    "    numeratorsum += (i- xbar) * ydat[count]\n",
    "    denomenatorsum += (i- xbar) * (i- xbar)\n",
    "    count += 1\n",
    "  \n",
    "  m = numeratorsum / denomenatorsum\n",
    "  c = ybar - m * xbar\n",
    "  \n",
    "  return [m, c]"
   ]
  },
  {
   "cell_type": "code",
   "execution_count": 104,
   "metadata": {},
   "outputs": [
    {
     "name": "stdout",
     "output_type": "stream",
     "text": [
      "The best fit for this data is the function 👉👉f(x) =0.848 * x + 3.733\n"
     ]
    },
    {
     "data": {
      "image/png": "[encoded data removed]",
      "text/plain": [
       "<Figure size 432x288 with 1 Axes>"
      ]
     },
     "metadata": {
      "needs_background": "light"
     },
     "output_type": "display_data"
    }
   ],
   "source": [
    "#Now plot the linear function f(x) = mx + c with values m and c\n",
    "m, c = linfit(xdat, ydat)\n",
    "T = np.linspace(1, 10, 10)\n",
    "Y = linear_function(m, x, c)\n",
    "plt.plot(x, Y)\n",
    "\n",
    "# let's scatter plot our data on top to see how it play with the fit\n",
    "plt.axis([0, 11, 0, 15])\n",
    "plt.grid()\n",
    "for i in range(len(xdat)):\n",
    "    plt.scatter(xdat[i], ydat[i])\n",
    "\n",
    "print(\"The best fit for this data is the function 👉👉f(x) ={:02.3f} * x + {:02.3f}\".format(m, c) )\n"
   ]
  }
 ],
 "metadata": {
  "kernelspec": {
   "display_name": "Python 3",
   "language": "python",
   "name": "python3"
  },
  "language_info": {
   "codemirror_mode": {
    "name": "ipython",
    "version": 3
   },
   "file_extension": ".py",
   "mimetype": "text/x-python",
   "name": "python",
   "nbconvert_exporter": "python",
   "pygments_lexer": "ipython3",
   "version": "3.7.1"
  }
 },
 "nbformat": 4,
 "nbformat_minor": 2
}
